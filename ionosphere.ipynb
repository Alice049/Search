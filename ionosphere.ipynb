{
 "cells": [
  {
   "cell_type": "code",
   "execution_count": 1,
   "id": "f8093664",
   "metadata": {
    "_cell_guid": "b1076dfc-b9ad-4769-8c92-a6c4dae69d19",
    "_uuid": "8f2839f25d086af736a60e9eeb907d3b93b6e0e5",
    "execution": {
     "iopub.execute_input": "2023-10-28T08:16:54.584571Z",
     "iopub.status.busy": "2023-10-28T08:16:54.583866Z",
     "iopub.status.idle": "2023-10-28T08:16:54.958839Z",
     "shell.execute_reply": "2023-10-28T08:16:54.957865Z"
    },
    "papermill": {
     "duration": 0.388166,
     "end_time": "2023-10-28T08:16:54.961777",
     "exception": false,
     "start_time": "2023-10-28T08:16:54.573611",
     "status": "completed"
    },
    "tags": []
   },
   "outputs": [
    {
     "name": "stdout",
     "output_type": "stream",
     "text": [
      "/kaggle/input/ionosphere/ionosphere_data.csv\n",
      "/kaggle/input/ionosphere/datapackage.json\n"
     ]
    }
   ],
   "source": [
    "# This Python 3 environment comes with many helpful analytics libraries installed\n",
    "# It is defined by the kaggle/python Docker image: https://github.com/kaggle/docker-python\n",
    "# For example, here's several helpful packages to load\n",
    "\n",
    "import numpy as np # linear algebra\n",
    "import pandas as pd # data processing, CSV file I/O (e.g. pd.read_csv)\n",
    "\n",
    "# Input data files are available in the read-only \"../input/\" directory\n",
    "# For example, running this (by clicking run or pressing Shift+Enter) will list all files under the input directory\n",
    "\n",
    "import os\n",
    "for dirname, _, filenames in os.walk('/kaggle/input'):\n",
    "    for filename in filenames:\n",
    "        print(os.path.join(dirname, filename))\n",
    "\n",
    "# You can write up to 20GB to the current directory (/kaggle/working/) that gets preserved as output when you create a version using \"Save & Run All\" \n",
    "# You can also write temporary files to /kaggle/temp/, but they won't be saved outside of the current session"
   ]
  },
  {
   "cell_type": "code",
   "execution_count": 2,
   "id": "14621572",
   "metadata": {
    "execution": {
     "iopub.execute_input": "2023-10-28T08:16:54.981227Z",
     "iopub.status.busy": "2023-10-28T08:16:54.980185Z",
     "iopub.status.idle": "2023-10-28T08:16:55.008609Z",
     "shell.execute_reply": "2023-10-28T08:16:55.007449Z"
    },
    "papermill": {
     "duration": 0.040084,
     "end_time": "2023-10-28T08:16:55.011051",
     "exception": false,
     "start_time": "2023-10-28T08:16:54.970967",
     "status": "completed"
    },
    "tags": []
   },
   "outputs": [
    {
     "name": "stdout",
     "output_type": "stream",
     "text": [
      "(351, 34)\n"
     ]
    }
   ],
   "source": [
    "import numpy as np\n",
    "import pandas as pd\n",
    "iono=pd.read_csv(\"/kaggle/input/ionosphere/ionosphere_data.csv\")\n",
    "X=iono.iloc[:,:-1]\n",
    "Y=iono.iloc[:,-1]\n",
    "print(X.shape)"
   ]
  },
  {
   "cell_type": "code",
   "execution_count": 3,
   "id": "fdca6ba9",
   "metadata": {
    "execution": {
     "iopub.execute_input": "2023-10-28T08:16:55.028505Z",
     "iopub.status.busy": "2023-10-28T08:16:55.028129Z",
     "iopub.status.idle": "2023-10-28T08:16:55.032948Z",
     "shell.execute_reply": "2023-10-28T08:16:55.032191Z"
    },
    "papermill": {
     "duration": 0.016025,
     "end_time": "2023-10-28T08:16:55.035109",
     "exception": false,
     "start_time": "2023-10-28T08:16:55.019084",
     "status": "completed"
    },
    "tags": []
   },
   "outputs": [
    {
     "name": "stdout",
     "output_type": "stream",
     "text": [
      "(351,)\n"
     ]
    }
   ],
   "source": [
    "print(Y.shape)"
   ]
  },
  {
   "cell_type": "code",
   "execution_count": 4,
   "id": "e0b9f5db",
   "metadata": {
    "execution": {
     "iopub.execute_input": "2023-10-28T08:16:55.053075Z",
     "iopub.status.busy": "2023-10-28T08:16:55.052517Z",
     "iopub.status.idle": "2023-10-28T08:16:55.058079Z",
     "shell.execute_reply": "2023-10-28T08:16:55.057410Z"
    },
    "papermill": {
     "duration": 0.016966,
     "end_time": "2023-10-28T08:16:55.060078",
     "exception": false,
     "start_time": "2023-10-28T08:16:55.043112",
     "status": "completed"
    },
    "tags": []
   },
   "outputs": [
    {
     "name": "stdout",
     "output_type": "stream",
     "text": [
      "column_a        bool\n",
      "column_b        bool\n",
      "column_c     float64\n",
      "column_d     float64\n",
      "column_e     float64\n",
      "column_f     float64\n",
      "column_g     float64\n",
      "column_h     float64\n",
      "column_i     float64\n",
      "column_j     float64\n",
      "column_k     float64\n",
      "column_l     float64\n",
      "column_m     float64\n",
      "column_n     float64\n",
      "column_o     float64\n",
      "column_p     float64\n",
      "column_q     float64\n",
      "column_r     float64\n",
      "column_s     float64\n",
      "column_t     float64\n",
      "column_u     float64\n",
      "column_v     float64\n",
      "column_w     float64\n",
      "column_x     float64\n",
      "column_y     float64\n",
      "column_z     float64\n",
      "column_aa    float64\n",
      "column_ab    float64\n",
      "column_ac    float64\n",
      "column_ad    float64\n",
      "column_ae    float64\n",
      "column_af    float64\n",
      "column_ag    float64\n",
      "column_ah    float64\n",
      "dtype: object\n"
     ]
    }
   ],
   "source": [
    "print(X.dtypes)"
   ]
  },
  {
   "cell_type": "code",
   "execution_count": 5,
   "id": "0a9ec8fe",
   "metadata": {
    "execution": {
     "iopub.execute_input": "2023-10-28T08:16:55.078003Z",
     "iopub.status.busy": "2023-10-28T08:16:55.077432Z",
     "iopub.status.idle": "2023-10-28T08:16:55.086275Z",
     "shell.execute_reply": "2023-10-28T08:16:55.085253Z"
    },
    "papermill": {
     "duration": 0.020497,
     "end_time": "2023-10-28T08:16:55.088548",
     "exception": false,
     "start_time": "2023-10-28T08:16:55.068051",
     "status": "completed"
    },
    "tags": []
   },
   "outputs": [
    {
     "name": "stdout",
     "output_type": "stream",
     "text": [
      " 遺漏0個數值\n"
     ]
    }
   ],
   "source": [
    "print(\" 遺漏{}個數值\".format(X.isnull().sum().sum()))"
   ]
  },
  {
   "cell_type": "code",
   "execution_count": 6,
   "id": "67344e57",
   "metadata": {
    "execution": {
     "iopub.execute_input": "2023-10-28T08:16:55.106818Z",
     "iopub.status.busy": "2023-10-28T08:16:55.106237Z",
     "iopub.status.idle": "2023-10-28T08:16:56.430219Z",
     "shell.execute_reply": "2023-10-28T08:16:56.428960Z"
    },
    "papermill": {
     "duration": 1.33563,
     "end_time": "2023-10-28T08:16:56.432619",
     "exception": false,
     "start_time": "2023-10-28T08:16:55.096989",
     "status": "completed"
    },
    "tags": []
   },
   "outputs": [
    {
     "name": "stdout",
     "output_type": "stream",
     "text": [
      "訓練集有263個樣本\n"
     ]
    }
   ],
   "source": [
    "from sklearn.model_selection import train_test_split\n",
    "X_train,X_test,Y_train,Y_test=train_test_split(X,Y,random_state=14)\n",
    "print(\"訓練集有{}個樣本\".format(X_train.shape[0]))"
   ]
  },
  {
   "cell_type": "code",
   "execution_count": 7,
   "id": "ace0e74a",
   "metadata": {
    "execution": {
     "iopub.execute_input": "2023-10-28T08:16:56.451168Z",
     "iopub.status.busy": "2023-10-28T08:16:56.450534Z",
     "iopub.status.idle": "2023-10-28T08:16:56.455535Z",
     "shell.execute_reply": "2023-10-28T08:16:56.454566Z"
    },
    "papermill": {
     "duration": 0.016377,
     "end_time": "2023-10-28T08:16:56.457394",
     "exception": false,
     "start_time": "2023-10-28T08:16:56.441017",
     "status": "completed"
    },
    "tags": []
   },
   "outputs": [
    {
     "name": "stdout",
     "output_type": "stream",
     "text": [
      "測試集有88個樣本\n"
     ]
    }
   ],
   "source": [
    "print(\"測試集有{}個樣本\".format(X_test.shape[0]))"
   ]
  },
  {
   "cell_type": "code",
   "execution_count": 8,
   "id": "a4a3ea3a",
   "metadata": {
    "execution": {
     "iopub.execute_input": "2023-10-28T08:16:56.475486Z",
     "iopub.status.busy": "2023-10-28T08:16:56.475077Z",
     "iopub.status.idle": "2023-10-28T08:16:56.479713Z",
     "shell.execute_reply": "2023-10-28T08:16:56.478982Z"
    },
    "papermill": {
     "duration": 0.016837,
     "end_time": "2023-10-28T08:16:56.482408",
     "exception": false,
     "start_time": "2023-10-28T08:16:56.465571",
     "status": "completed"
    },
    "tags": []
   },
   "outputs": [
    {
     "name": "stdout",
     "output_type": "stream",
     "text": [
      "每個樣本有34屬性\n"
     ]
    }
   ],
   "source": [
    "print(\"每個樣本有{}屬性\".format(X_train.shape[1]))"
   ]
  },
  {
   "cell_type": "code",
   "execution_count": 9,
   "id": "cd7f087f",
   "metadata": {
    "execution": {
     "iopub.execute_input": "2023-10-28T08:16:56.501535Z",
     "iopub.status.busy": "2023-10-28T08:16:56.500791Z",
     "iopub.status.idle": "2023-10-28T08:16:56.512941Z",
     "shell.execute_reply": "2023-10-28T08:16:56.511813Z"
    },
    "papermill": {
     "duration": 0.024386,
     "end_time": "2023-10-28T08:16:56.515269",
     "exception": false,
     "start_time": "2023-10-28T08:16:56.490883",
     "status": "completed"
    },
    "tags": []
   },
   "outputs": [
    {
     "name": "stdout",
     "output_type": "stream",
     "text": [
      "資料集類別分佈為：\n",
      "column_ai\n",
      "g    0.641026\n",
      "b    0.358974\n",
      "Name: count, dtype: float64.\n"
     ]
    }
   ],
   "source": [
    "print(\"資料集類別分佈為：\\n{}.\".format(Y.value_counts()/len(Y)))"
   ]
  },
  {
   "cell_type": "code",
   "execution_count": 10,
   "id": "7e939037",
   "metadata": {
    "execution": {
     "iopub.execute_input": "2023-10-28T08:16:56.533515Z",
     "iopub.status.busy": "2023-10-28T08:16:56.533142Z",
     "iopub.status.idle": "2023-10-28T08:16:56.540553Z",
     "shell.execute_reply": "2023-10-28T08:16:56.539376Z"
    },
    "papermill": {
     "duration": 0.019094,
     "end_time": "2023-10-28T08:16:56.542661",
     "exception": false,
     "start_time": "2023-10-28T08:16:56.523567",
     "status": "completed"
    },
    "tags": []
   },
   "outputs": [
    {
     "name": "stdout",
     "output_type": "stream",
     "text": [
      "訓練集類別資料分佈為：\n",
      "column_ai\n",
      "g    0.216730\n",
      "b    0.117871\n",
      "Name: count, dtype: float64.\n"
     ]
    }
   ],
   "source": [
    "print(\"訓練集類別資料分佈為：\\n{}.\".format(Y_test.value_counts()/len(Y_train)))"
   ]
  },
  {
   "cell_type": "markdown",
   "id": "aca22485",
   "metadata": {
    "papermill": {
     "duration": 0.008173,
     "end_time": "2023-10-28T08:16:56.559411",
     "exception": false,
     "start_time": "2023-10-28T08:16:56.551238",
     "status": "completed"
    },
    "tags": []
   },
   "source": []
  },
  {
   "cell_type": "code",
   "execution_count": 11,
   "id": "9bfdb4e4",
   "metadata": {
    "execution": {
     "iopub.execute_input": "2023-10-28T08:16:56.578183Z",
     "iopub.status.busy": "2023-10-28T08:16:56.577429Z",
     "iopub.status.idle": "2023-10-28T08:16:56.584439Z",
     "shell.execute_reply": "2023-10-28T08:16:56.583372Z"
    },
    "papermill": {
     "duration": 0.018708,
     "end_time": "2023-10-28T08:16:56.586443",
     "exception": false,
     "start_time": "2023-10-28T08:16:56.567735",
     "status": "completed"
    },
    "tags": []
   },
   "outputs": [
    {
     "name": "stdout",
     "output_type": "stream",
     "text": [
      "測試集類別分佈為:\n",
      "column_ai\n",
      "g    0.647727\n",
      "b    0.352273\n",
      "Name: count, dtype: float64.\n"
     ]
    }
   ],
   "source": [
    "print(\"測試集類別分佈為:\\n{}.\".format(Y_test.value_counts()/len(Y_test)))"
   ]
  },
  {
   "cell_type": "markdown",
   "id": "26d7ee8d",
   "metadata": {
    "papermill": {
     "duration": 0.008267,
     "end_time": "2023-10-28T08:16:56.603295",
     "exception": false,
     "start_time": "2023-10-28T08:16:56.595028",
     "status": "completed"
    },
    "tags": []
   },
   "source": []
  },
  {
   "cell_type": "code",
   "execution_count": 12,
   "id": "c9beb07a",
   "metadata": {
    "execution": {
     "iopub.execute_input": "2023-10-28T08:16:56.622299Z",
     "iopub.status.busy": "2023-10-28T08:16:56.621601Z",
     "iopub.status.idle": "2023-10-28T08:16:56.640920Z",
     "shell.execute_reply": "2023-10-28T08:16:56.639734Z"
    },
    "papermill": {
     "duration": 0.031416,
     "end_time": "2023-10-28T08:16:56.643374",
     "exception": false,
     "start_time": "2023-10-28T08:16:56.611958",
     "status": "completed"
    },
    "tags": []
   },
   "outputs": [],
   "source": [
    "from sklearn.preprocessing import StandardScaler\n",
    "sc=StandardScaler()\n",
    "X_train_std=sc.fit_transform(X_train)\n",
    "X_test_std=sc.fit_transform(X_test)\n",
    "X_std=sc.fit_transform(X)"
   ]
  },
  {
   "cell_type": "code",
   "execution_count": 13,
   "id": "174221e6",
   "metadata": {
    "execution": {
     "iopub.execute_input": "2023-10-28T08:16:56.662528Z",
     "iopub.status.busy": "2023-10-28T08:16:56.662127Z",
     "iopub.status.idle": "2023-10-28T08:16:56.956771Z",
     "shell.execute_reply": "2023-10-28T08:16:56.955290Z"
    },
    "papermill": {
     "duration": 0.307075,
     "end_time": "2023-10-28T08:16:56.959061",
     "exception": false,
     "start_time": "2023-10-28T08:16:56.651986",
     "status": "completed"
    },
    "tags": []
   },
   "outputs": [
    {
     "name": "stdout",
     "output_type": "stream",
     "text": [
      "minkowski\n",
      "5\n",
      "2\n"
     ]
    }
   ],
   "source": [
    "from sklearn.neighbors import KNeighborsClassifier\n",
    "estimator=KNeighborsClassifier()\n",
    "estimator.fit(X_train_std,Y_train)\n",
    "for name in['metric','n_neighbors','p']:\n",
    "    print(estimator.get_params()[name])"
   ]
  },
  {
   "cell_type": "markdown",
   "id": "6c5ffce7",
   "metadata": {
    "papermill": {
     "duration": 0.008193,
     "end_time": "2023-10-28T08:16:56.975763",
     "exception": false,
     "start_time": "2023-10-28T08:16:56.967570",
     "status": "completed"
    },
    "tags": []
   },
   "source": []
  },
  {
   "cell_type": "code",
   "execution_count": 14,
   "id": "829f13f6",
   "metadata": {
    "execution": {
     "iopub.execute_input": "2023-10-28T08:16:56.994329Z",
     "iopub.status.busy": "2023-10-28T08:16:56.993948Z",
     "iopub.status.idle": "2023-10-28T08:16:57.071576Z",
     "shell.execute_reply": "2023-10-28T08:16:57.070112Z"
    },
    "papermill": {
     "duration": 0.090179,
     "end_time": "2023-10-28T08:16:57.074265",
     "exception": false,
     "start_time": "2023-10-28T08:16:56.984086",
     "status": "completed"
    },
    "tags": []
   },
   "outputs": [
    {
     "name": "stdout",
     "output_type": "stream",
     "text": [
      "['b' 'g' 'b' 'g' 'b']\n"
     ]
    }
   ],
   "source": [
    "train_pred=estimator.predict(X_train_std)\n",
    "print(train_pred[:5])"
   ]
  },
  {
   "cell_type": "code",
   "execution_count": 15,
   "id": "74012da1",
   "metadata": {
    "execution": {
     "iopub.execute_input": "2023-10-28T08:16:57.094026Z",
     "iopub.status.busy": "2023-10-28T08:16:57.093312Z",
     "iopub.status.idle": "2023-10-28T08:16:57.100056Z",
     "shell.execute_reply": "2023-10-28T08:16:57.098743Z"
    },
    "papermill": {
     "duration": 0.019966,
     "end_time": "2023-10-28T08:16:57.103019",
     "exception": false,
     "start_time": "2023-10-28T08:16:57.083053",
     "status": "completed"
    },
    "tags": []
   },
   "outputs": [
    {
     "name": "stdout",
     "output_type": "stream",
     "text": [
      "51     b\n",
      "24     g\n",
      "168    b\n",
      "136    b\n",
      "71     b\n",
      "Name: column_ai, dtype: object\n"
     ]
    }
   ],
   "source": [
    "print(Y_train[:5])"
   ]
  },
  {
   "cell_type": "code",
   "execution_count": 16,
   "id": "5b74b90b",
   "metadata": {
    "execution": {
     "iopub.execute_input": "2023-10-28T08:16:57.124093Z",
     "iopub.status.busy": "2023-10-28T08:16:57.122939Z",
     "iopub.status.idle": "2023-10-28T08:16:57.130054Z",
     "shell.execute_reply": "2023-10-28T08:16:57.128996Z"
    },
    "papermill": {
     "duration": 0.019932,
     "end_time": "2023-10-28T08:16:57.132145",
     "exception": false,
     "start_time": "2023-10-28T08:16:57.112213",
     "status": "completed"
    },
    "tags": []
   },
   "outputs": [
    {
     "name": "stdout",
     "output_type": "stream",
     "text": [
      "訓練集正確率為87.1%\n"
     ]
    }
   ],
   "source": [
    "train_acc=np.mean(Y_train==train_pred)*100\n",
    "print(\"訓練集正確率為{0:.1f}%\".format(train_acc))"
   ]
  },
  {
   "cell_type": "code",
   "execution_count": 17,
   "id": "36a9bd86",
   "metadata": {
    "execution": {
     "iopub.execute_input": "2023-10-28T08:16:57.152106Z",
     "iopub.status.busy": "2023-10-28T08:16:57.150985Z",
     "iopub.status.idle": "2023-10-28T08:16:57.166670Z",
     "shell.execute_reply": "2023-10-28T08:16:57.165449Z"
    },
    "papermill": {
     "duration": 0.027782,
     "end_time": "2023-10-28T08:16:57.168819",
     "exception": false,
     "start_time": "2023-10-28T08:16:57.141037",
     "status": "completed"
    },
    "tags": []
   },
   "outputs": [
    {
     "name": "stdout",
     "output_type": "stream",
     "text": [
      "['g' 'g' 'g' 'g' 'g']\n"
     ]
    }
   ],
   "source": [
    "Y_pred=estimator.predict(X_test_std)\n",
    "print(Y_pred[:5])"
   ]
  },
  {
   "cell_type": "code",
   "execution_count": 18,
   "id": "a839ef48",
   "metadata": {
    "execution": {
     "iopub.execute_input": "2023-10-28T08:16:57.188912Z",
     "iopub.status.busy": "2023-10-28T08:16:57.187908Z",
     "iopub.status.idle": "2023-10-28T08:16:57.194478Z",
     "shell.execute_reply": "2023-10-28T08:16:57.193425Z"
    },
    "papermill": {
     "duration": 0.018701,
     "end_time": "2023-10-28T08:16:57.196440",
     "exception": false,
     "start_time": "2023-10-28T08:16:57.177739",
     "status": "completed"
    },
    "tags": []
   },
   "outputs": [
    {
     "name": "stdout",
     "output_type": "stream",
     "text": [
      "14     g\n",
      "1      b\n",
      "44     g\n",
      "245    g\n",
      "288    g\n",
      "Name: column_ai, dtype: object\n"
     ]
    }
   ],
   "source": [
    "print(Y_test[:5])"
   ]
  },
  {
   "cell_type": "code",
   "execution_count": 19,
   "id": "cb25c93c",
   "metadata": {
    "execution": {
     "iopub.execute_input": "2023-10-28T08:16:57.215879Z",
     "iopub.status.busy": "2023-10-28T08:16:57.215061Z",
     "iopub.status.idle": "2023-10-28T08:16:57.221176Z",
     "shell.execute_reply": "2023-10-28T08:16:57.220242Z"
    },
    "papermill": {
     "duration": 0.018342,
     "end_time": "2023-10-28T08:16:57.223537",
     "exception": false,
     "start_time": "2023-10-28T08:16:57.205195",
     "status": "completed"
    },
    "tags": []
   },
   "outputs": [
    {
     "name": "stdout",
     "output_type": "stream",
     "text": [
      "測試集正確率為85.2%\n"
     ]
    }
   ],
   "source": [
    "test_acc=np.mean(Y_test==Y_pred)*100\n",
    "print(\"測試集正確率為{0:.1f}%\".format(test_acc))"
   ]
  },
  {
   "cell_type": "markdown",
   "id": "51b06416",
   "metadata": {
    "papermill": {
     "duration": 0.009429,
     "end_time": "2023-10-28T08:16:57.241810",
     "exception": false,
     "start_time": "2023-10-28T08:16:57.232381",
     "status": "completed"
    },
    "tags": []
   },
   "source": [
    "交叉驗證\n",
    "計算各次交叉驗證配適之模型的績效分數。依序傳入配適的模型，用以配適模型的資料，以及評估各次配適結果優劣的績效指標，運算完成函數傳回三次交叉驗證的正確分數為scores，計算算數平均數再印出結果，請注意此次結果的近鄰數k"
   ]
  },
  {
   "cell_type": "code",
   "execution_count": 20,
   "id": "9a941bd0",
   "metadata": {
    "execution": {
     "iopub.execute_input": "2023-10-28T08:16:57.261198Z",
     "iopub.status.busy": "2023-10-28T08:16:57.260815Z",
     "iopub.status.idle": "2023-10-28T08:16:57.325528Z",
     "shell.execute_reply": "2023-10-28T08:16:57.324401Z"
    },
    "papermill": {
     "duration": 0.076948,
     "end_time": "2023-10-28T08:16:57.327754",
     "exception": false,
     "start_time": "2023-10-28T08:16:57.250806",
     "status": "completed"
    },
    "tags": []
   },
   "outputs": [
    {
     "name": "stdout",
     "output_type": "stream",
     "text": [
      "(5,)\n"
     ]
    }
   ],
   "source": [
    "from sklearn.model_selection import cross_val_score\n",
    "scores=cross_val_score(estimator,X_std,Y,scoring='accuracy')\n",
    "print(scores.shape)"
   ]
  },
  {
   "cell_type": "code",
   "execution_count": 21,
   "id": "49b5f648",
   "metadata": {
    "execution": {
     "iopub.execute_input": "2023-10-28T08:16:57.348881Z",
     "iopub.status.busy": "2023-10-28T08:16:57.347771Z",
     "iopub.status.idle": "2023-10-28T08:16:57.353849Z",
     "shell.execute_reply": "2023-10-28T08:16:57.352672Z"
    },
    "papermill": {
     "duration": 0.018454,
     "end_time": "2023-10-28T08:16:57.356051",
     "exception": false,
     "start_time": "2023-10-28T08:16:57.337597",
     "status": "completed"
    },
    "tags": []
   },
   "outputs": [
    {
     "name": "stdout",
     "output_type": "stream",
     "text": [
      "五次平均正確率為82.9%\n"
     ]
    }
   ],
   "source": [
    "average_accuracy=np.mean(scores)*100\n",
    "print(\"五次平均正確率為{0:.1f}%\".format(average_accuracy))"
   ]
  },
  {
   "cell_type": "markdown",
   "id": "b08235f0",
   "metadata": {
    "papermill": {
     "duration": 0.008841,
     "end_time": "2023-10-28T08:16:57.374260",
     "exception": false,
     "start_time": "2023-10-28T08:16:57.365419",
     "status": "completed"
    },
    "tags": []
   },
   "source": [
    "交叉驗證常用來調校學習中的參數，串列存放鄰近數k從1到20的整數測試值，for迴圈針對每一個可能的k值反覆執行以下運算\n",
    "1.先設定k鄰近分類模型的規格（空模的近鄰數）\n",
    "2.呼叫cross_val_score()函數，取得五次交叉驗證的正確率分數sc\n",
    "3.再計算正確平均值np.mean(sc)\n",
    "4.將結果添加到不同的k值下的平均正確率分數串列avg_scores與各k值下五次的交叉驗證正確率順串列中。\n"
   ]
  },
  {
   "cell_type": "code",
   "execution_count": 22,
   "id": "898b38f5",
   "metadata": {
    "execution": {
     "iopub.execute_input": "2023-10-28T08:16:57.394075Z",
     "iopub.status.busy": "2023-10-28T08:16:57.393690Z",
     "iopub.status.idle": "2023-10-28T08:16:58.254772Z",
     "shell.execute_reply": "2023-10-28T08:16:58.253725Z"
    },
    "papermill": {
     "duration": 0.873905,
     "end_time": "2023-10-28T08:16:58.257298",
     "exception": false,
     "start_time": "2023-10-28T08:16:57.383393",
     "status": "completed"
    },
    "tags": []
   },
   "outputs": [],
   "source": [
    "avg_scores=[]\n",
    "all_scores=[]\n",
    "parameter_values=list(range(1,21))\n",
    "for n_neighbors in parameter_values:\n",
    "    estimator=KNeighborsClassifier(n_neighbors=n_neighbors)\n",
    "    sc=cross_val_score(estimator,X_std,Y,scoring=\"accuracy\")\n",
    "    avg_scores.append(np.mean(sc))\n",
    "    all_scores.append(sc)"
   ]
  },
  {
   "cell_type": "code",
   "execution_count": 23,
   "id": "2ae975d4",
   "metadata": {
    "execution": {
     "iopub.execute_input": "2023-10-28T08:16:58.332623Z",
     "iopub.status.busy": "2023-10-28T08:16:58.331954Z",
     "iopub.status.idle": "2023-10-28T08:16:58.336694Z",
     "shell.execute_reply": "2023-10-28T08:16:58.335744Z"
    },
    "papermill": {
     "duration": 0.0179,
     "end_time": "2023-10-28T08:16:58.338758",
     "exception": false,
     "start_time": "2023-10-28T08:16:58.320858",
     "status": "completed"
    },
    "tags": []
   },
   "outputs": [
    {
     "name": "stdout",
     "output_type": "stream",
     "text": [
      "20\n"
     ]
    }
   ],
   "source": [
    "print(len(avg_scores))"
   ]
  },
  {
   "cell_type": "code",
   "execution_count": 24,
   "id": "11109353",
   "metadata": {
    "execution": {
     "iopub.execute_input": "2023-10-28T08:16:58.359119Z",
     "iopub.status.busy": "2023-10-28T08:16:58.358729Z",
     "iopub.status.idle": "2023-10-28T08:16:58.364074Z",
     "shell.execute_reply": "2023-10-28T08:16:58.362936Z"
    },
    "papermill": {
     "duration": 0.018078,
     "end_time": "2023-10-28T08:16:58.366142",
     "exception": false,
     "start_time": "2023-10-28T08:16:58.348064",
     "status": "completed"
    },
    "tags": []
   },
   "outputs": [
    {
     "name": "stdout",
     "output_type": "stream",
     "text": [
      "[0.831830985915493, 0.8718712273641852, 0.8319114688128775, 0.8404828973843059, 0.8290945674044264, 0.8404426559356135, 0.817625754527163, 0.8290543259557344, 0.8119114688128773, 0.817625754527163, 0.817625754527163, 0.8319114688128773, 0.8176659959758551, 0.823380281690141, 0.8090945674044265, 0.8090945674044265, 0.8033802816901409, 0.8090945674044265, 0.7919517102615694, 0.800523138832998]\n"
     ]
    }
   ],
   "source": [
    "print(avg_scores)"
   ]
  },
  {
   "cell_type": "code",
   "execution_count": 25,
   "id": "7aa1e066",
   "metadata": {
    "execution": {
     "iopub.execute_input": "2023-10-28T08:16:58.387637Z",
     "iopub.status.busy": "2023-10-28T08:16:58.387260Z",
     "iopub.status.idle": "2023-10-28T08:16:58.392706Z",
     "shell.execute_reply": "2023-10-28T08:16:58.391577Z"
    },
    "papermill": {
     "duration": 0.018603,
     "end_time": "2023-10-28T08:16:58.394793",
     "exception": false,
     "start_time": "2023-10-28T08:16:58.376190",
     "status": "completed"
    },
    "tags": []
   },
   "outputs": [
    {
     "name": "stdout",
     "output_type": "stream",
     "text": [
      "20\n"
     ]
    }
   ],
   "source": [
    "print(len(all_scores))"
   ]
  },
  {
   "cell_type": "code",
   "execution_count": 26,
   "id": "74ba4baa",
   "metadata": {
    "execution": {
     "iopub.execute_input": "2023-10-28T08:16:58.415470Z",
     "iopub.status.busy": "2023-10-28T08:16:58.415086Z",
     "iopub.status.idle": "2023-10-28T08:16:58.421075Z",
     "shell.execute_reply": "2023-10-28T08:16:58.420028Z"
    },
    "papermill": {
     "duration": 0.019041,
     "end_time": "2023-10-28T08:16:58.423097",
     "exception": false,
     "start_time": "2023-10-28T08:16:58.404056",
     "status": "completed"
    },
    "tags": []
   },
   "outputs": [
    {
     "name": "stdout",
     "output_type": "stream",
     "text": [
      "[array([0.85915493, 0.75714286, 0.81428571, 0.88571429, 0.84285714]), array([0.84507042, 0.82857143, 0.82857143, 0.94285714, 0.91428571]), array([0.83098592, 0.77142857, 0.75714286, 0.92857143, 0.87142857]), array([0.83098592, 0.8       , 0.77142857, 0.92857143, 0.87142857])]\n"
     ]
    }
   ],
   "source": [
    "print(all_scores[:4])"
   ]
  },
  {
   "cell_type": "markdown",
   "id": "58aada8c",
   "metadata": {
    "papermill": {
     "duration": 0.009161,
     "end_time": "2023-10-28T08:16:58.441643",
     "exception": false,
     "start_time": "2023-10-28T08:16:58.432482",
     "status": "completed"
    },
    "tags": []
   },
   "source": [
    "將20次不同相鄰對應交叉驗證正確率平均值匯成折線圖，可以看出平均正確率升高後漸次震盪而下，最高的正確率發生在k=2"
   ]
  },
  {
   "cell_type": "raw",
   "id": "fcf85371",
   "metadata": {
    "papermill": {
     "duration": 0.009082,
     "end_time": "2023-10-28T08:16:58.460116",
     "exception": false,
     "start_time": "2023-10-28T08:16:58.451034",
     "status": "completed"
    },
    "tags": []
   },
   "source": []
  },
  {
   "cell_type": "code",
   "execution_count": 27,
   "id": "ba75c71e",
   "metadata": {
    "execution": {
     "iopub.execute_input": "2023-10-28T08:16:58.480947Z",
     "iopub.status.busy": "2023-10-28T08:16:58.480035Z",
     "iopub.status.idle": "2023-10-28T08:16:58.842487Z",
     "shell.execute_reply": "2023-10-28T08:16:58.841203Z"
    },
    "papermill": {
     "duration": 0.375596,
     "end_time": "2023-10-28T08:16:58.844980",
     "exception": false,
     "start_time": "2023-10-28T08:16:58.469384",
     "status": "completed"
    },
    "tags": []
   },
   "outputs": [
    {
     "data": {
      "text/plain": [
       "[<matplotlib.lines.Line2D at 0x79c99397e5c0>]"
      ]
     },
     "execution_count": 27,
     "metadata": {},
     "output_type": "execute_result"
    },
    {
     "data": {
      "image/png": "[encoded data removed]",
      "text/plain": [
       "<Figure size 640x480 with 1 Axes>"
      ]
     },
     "metadata": {},
     "output_type": "display_data"
    }
   ],
   "source": [
    "from matplotlib import pyplot as plt\n",
    "fig=plt.figure()\n",
    "ax=fig.add_subplot(111)\n",
    "plt.xticks(np.arange(0,21))\n",
    "ax.plot(parameter_values,avg_scores,'-o')"
   ]
  },
  {
   "cell_type": "markdown",
   "id": "612a0b2c",
   "metadata": {
    "papermill": {
     "duration": 0.010074,
     "end_time": "2023-10-28T08:16:58.865554",
     "exception": false,
     "start_time": "2023-10-28T08:16:58.855480",
     "status": "completed"
    },
    "tags": []
   },
   "source": [
    "pipeline()類別將資料分析步驟流程化，整個流程名稱為pipe,包括scale和predict兩個步驟，分別調用MinMaxScaler()和KNeighborsClassifier()函數，進行屬性矩陣標準化與鄰近分類建模。然後將定義好的流程，原始預測變數資料框，類別標籤序列與評估方法等傳入交叉驗證運算執行函數，完成整個分析流程。"
   ]
  },
  {
   "cell_type": "code",
   "execution_count": 28,
   "id": "6d3738b4",
   "metadata": {
    "execution": {
     "iopub.execute_input": "2023-10-28T08:16:58.888815Z",
     "iopub.status.busy": "2023-10-28T08:16:58.888388Z",
     "iopub.status.idle": "2023-10-28T08:16:58.988106Z",
     "shell.execute_reply": "2023-10-28T08:16:58.986677Z"
    },
    "papermill": {
     "duration": 0.114612,
     "end_time": "2023-10-28T08:16:58.990472",
     "exception": false,
     "start_time": "2023-10-28T08:16:58.875860",
     "status": "completed"
    },
    "tags": []
   },
   "outputs": [
    {
     "name": "stdout",
     "output_type": "stream",
     "text": [
      "正確結果為[84.50704225 80.         77.14285714 88.57142857 84.28571429]%:\n"
     ]
    }
   ],
   "source": [
    "from sklearn.preprocessing import MinMaxScaler\n",
    "from sklearn.pipeline import Pipeline\n",
    "pipe=Pipeline([('scale',MinMaxScaler()),('predict',KNeighborsClassifier())])\n",
    "scores=cross_val_score(pipe,X,Y,scoring=\"accuracy\")\n",
    "print(\"正確結果為{}%:\".format(scores*100))"
   ]
  },
  {
   "cell_type": "code",
   "execution_count": 29,
   "id": "13f6bbac",
   "metadata": {
    "execution": {
     "iopub.execute_input": "2023-10-28T08:16:59.014129Z",
     "iopub.status.busy": "2023-10-28T08:16:59.013768Z",
     "iopub.status.idle": "2023-10-28T08:16:59.019776Z",
     "shell.execute_reply": "2023-10-28T08:16:59.018561Z"
    },
    "papermill": {
     "duration": 0.021011,
     "end_time": "2023-10-28T08:16:59.022071",
     "exception": false,
     "start_time": "2023-10-28T08:16:59.001060",
     "status": "completed"
    },
    "tags": []
   },
   "outputs": [
    {
     "name": "stdout",
     "output_type": "stream",
     "text": [
      "平均正確率為82.9%\n"
     ]
    }
   ],
   "source": [
    "print(\"平均正確率為{0:.1f}%\".format(np.mean(scores)*100))"
   ]
  }
 ],
 "metadata": {
  "kernelspec": {
   "display_name": "Python 3",
   "language": "python",
   "name": "python3"
  },
  "language_info": {
   "codemirror_mode": {
    "name": "ipython",
    "version": 3
   },
   "file_extension": ".py",
   "mimetype": "text/x-python",
   "name": "python",
   "nbconvert_exporter": "python",
   "pygments_lexer": "ipython3",
   "version": "3.10.12"
  },
  "papermill": {
   "default_parameters": {},
   "duration": 8.292323,
   "end_time": "2023-10-28T08:16:59.654010",
   "environment_variables": {},
   "exception": null,
   "input_path": "__notebook__.ipynb",
   "output_path": "__notebook__.ipynb",
   "parameters": {},
   "start_time": "2023-10-28T08:16:51.361687",
   "version": "2.4.0"
  }
 },
 "nbformat": 4,
 "nbformat_minor": 5
}
